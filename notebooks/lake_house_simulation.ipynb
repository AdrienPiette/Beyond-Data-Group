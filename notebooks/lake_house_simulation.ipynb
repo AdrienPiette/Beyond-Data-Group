{
 "cells": [
  {
   "cell_type": "code",
   "execution_count": 4,
   "metadata": {},
   "outputs": [
    {
     "name": "stdout",
     "output_type": "stream",
     "text": [
      "✅ Table 'absence_type' créée avec succès\n",
      "✅ Table 'absence' créée avec succès\n",
      "✅ Table 'contract_basis' créée avec succès\n",
      "✅ Table 'post_code' créée avec succès\n",
      "✅ Table 'salary_statement' créée avec succès\n",
      "✅ Table 'work_plan' créée avec succès\n"
     ]
    }
   ],
   "source": [
    "import pandas as pd\n",
    "import sqlite3\n",
    "\n",
    "# Fichiers déjà lus dans le dictionnaire\n",
    "csv_files = {\n",
    "    \"absence_type\": pd.read_csv(r\"C:\\Users\\pieta\\OneDrive\\Bureau\\Beyond Data Group\\Beyond-Data-Group\\data\\Absence_Type.csv\", sep=';'),\n",
    "    \"absence\": pd.read_csv(r\"C:\\Users\\pieta\\OneDrive\\Bureau\\Beyond Data Group\\Beyond-Data-Group\\data\\ABSENCES.csv\", sep=';'),\n",
    "    \"contract_basis\": pd.read_csv(r\"C:\\Users\\pieta\\OneDrive\\Bureau\\Beyond Data Group\\Beyond-Data-Group\\data\\CONTRACT_BASIS.csv\", sep=';'),\n",
    "    \"post_code\": pd.read_csv(r\"C:\\Users\\pieta\\OneDrive\\Bureau\\Beyond Data Group\\Beyond-Data-Group\\data\\POSTCODES.csv\", sep=';'),\n",
    "    \"salary_statement\": pd.read_csv(r\"C:\\Users\\pieta\\OneDrive\\Bureau\\Beyond Data Group\\Beyond-Data-Group\\data\\SALARY_STATEMENT.csv\", sep=';'),\n",
    "    \"work_plan\": pd.read_csv(r\"C:\\Users\\pieta\\OneDrive\\Bureau\\Beyond Data Group\\Beyond-Data-Group\\data\\WORK_PLAN.csv\", sep=';'),\n",
    "}\n",
    "\n",
    "# Connexion à la base SQLite\n",
    "conn = sqlite3.connect(\"fabric_sim.db\")\n",
    "\n",
    "for table_name, df in csv_files.items():\n",
    "    df.columns = df.columns.str.strip().str.lower().str.replace(' ', '_')\n",
    "    df.to_sql(table_name, conn, if_exists='replace', index=False)\n",
    "    print(f\"✅ Table '{table_name}' créée avec succès\")\n",
    "\n",
    "conn.close()\n"
   ]
  }
 ],
 "metadata": {
  "kernelspec": {
   "display_name": "Python 3",
   "language": "python",
   "name": "python3"
  },
  "language_info": {
   "codemirror_mode": {
    "name": "ipython",
    "version": 3
   },
   "file_extension": ".py",
   "mimetype": "text/x-python",
   "name": "python",
   "nbconvert_exporter": "python",
   "pygments_lexer": "ipython3",
   "version": "3.12.10"
  }
 },
 "nbformat": 4,
 "nbformat_minor": 2
}
