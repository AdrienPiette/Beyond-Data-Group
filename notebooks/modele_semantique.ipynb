{
 "cells": [
  {
   "cell_type": "code",
   "execution_count": 1,
   "id": "225eea57",
   "metadata": {},
   "outputs": [],
   "source": [
    "import pandas as pd\n",
    "import sqlite3 \n",
    "\n",
    "# Connexion à la base SQLite\n",
    "conn = sqlite3.connect(\"fabric_sim.db\")\n",
    "\n",
    "def load_all(conn):\n",
    "    \"\"\"Charge les tables principales avec des jointures logiques\"\"\"\n",
    "    salary = pd.read_sql(\"SELECT * FROM salary_statement\", conn)\n",
    "    absences = pd.read_sql(\"SELECT * FROM absence\", conn)\n",
    "    contract = pd.read_sql(\"SELECT * FROM contract_basis\", conn)\n",
    "    workplan = pd.read_sql(\"SELECT * FROM work_plan\", conn)\n",
    "\n",
    "    df = salary.merge(absences, on=\"employee_id\", how=\"left\")\n",
    "    df = df.merge(contract, on=\"employee_id\", how=\"left\")\n",
    "    df = df.merge(workplan, on=\"employee_id\", how=\"left\")\n",
    "\n",
    "    # Nettoyage\n",
    "    df = df.dropna(subset=[\"total_salary\", \"planned_days\"])  # garde les lignes complètes\n",
    "    df['absence_rate'] = df['absence_days'] / df['planned_days']\n",
    "\n",
    "    return df\n",
    "\n"
   ]
  },
  {
   "cell_type": "code",
   "execution_count": null,
   "id": "7f6f77bf",
   "metadata": {},
   "outputs": [],
   "source": [
    "# --- Mesures sémantiques ---\n",
    "\n",
    "def get_total_salary(df):\n",
    "    return df['total_salary'].sum()\n",
    "\n",
    "def get_average_absence_rate(df):\n",
    "    return df['absence_rate'].mean()\n",
    "\n",
    "def get_salary_by_department(df):\n",
    "    return df.groupby(\"department\")[[\"total_salary\"]].sum().reset_index()\n",
    "\n",
    "def get_absence_rate_by_department(df):\n",
    "    return df.groupby(\"department\")[[\"absence_rate\"]].mean().reset_index()\n",
    "\n",
    "def filter_by_contract(df, contract_type=\"CDI\"):\n",
    "    return df[df['contract_type'] == contract_type]\n"
   ]
  }
 ],
 "metadata": {
  "kernelspec": {
   "display_name": "Python 3",
   "language": "python",
   "name": "python3"
  },
  "language_info": {
   "codemirror_mode": {
    "name": "ipython",
    "version": 3
   },
   "file_extension": ".py",
   "mimetype": "text/x-python",
   "name": "python",
   "nbconvert_exporter": "python",
   "pygments_lexer": "ipython3",
   "version": "3.12.10"
  }
 },
 "nbformat": 4,
 "nbformat_minor": 5
}
